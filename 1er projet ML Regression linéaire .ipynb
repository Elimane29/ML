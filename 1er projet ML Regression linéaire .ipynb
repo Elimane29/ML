{
 "cells": [
  {
   "cell_type": "code",
   "execution_count": 2,
   "id": "8adc8105-2f33-480f-becb-f0dd8a1c6528",
   "metadata": {},
   "outputs": [],
   "source": [
    "#On doit d'abord importer la librairie d'où on va tirer nos fonctions\n",
    "import numpy as np\n",
    "\n",
    "#On va générer des données aléatoires(notre dataset) avec lesquelles travailler \n",
    "from sklearn.datasets import make_regression\n",
    "#Pour faire des graphes\n",
    "import matplotlib.pyplot as plt"
   ]
  },
  {
   "cell_type": "code",
   "execution_count": 36,
   "id": "437dedfb-0563-4002-9b9e-9c6c04f68a5b",
   "metadata": {},
   "outputs": [
    {
     "data": {
      "text/plain": [
       "<matplotlib.collections.PathCollection at 0x120213610>"
      ]
     },
     "execution_count": 36,
     "metadata": {},
     "output_type": "execute_result"
    },
    {
     "data": {
      "image/png": "[encoded data removed]",
      "text/plain": [
       "<Figure size 640x480 with 1 Axes>"
      ]
     },
     "metadata": {},
     "output_type": "display_data"
    }
   ],
   "source": [
    "#**Dataset** avec un vecteur x et un vecteur y pour 100 exemples une feature x et du bruit \n",
    "x, y = make_regression(n_samples=100, n_features=1, noise=10)\n",
    "#Représentation de y en fonction de x\n",
    "plt.scatter(x, y )"
   ]
  },
  {
   "cell_type": "code",
   "execution_count": 37,
   "id": "ffae24fa-fa2e-4bdb-9f92-68c0f2b86c4f",
   "metadata": {},
   "outputs": [
    {
     "name": "stdout",
     "output_type": "stream",
     "text": [
      "(100, 1)\n",
      "(100,)\n"
     ]
    }
   ],
   "source": [
    "#On va vérifier les dimensions de nos matrices\n",
    "print(x.shape)\n",
    "print(y.shape)"
   ]
  },
  {
   "cell_type": "code",
   "execution_count": 38,
   "id": "68213f09-27e5-42c8-aa2f-8f2fce469621",
   "metadata": {},
   "outputs": [
    {
     "name": "stdout",
     "output_type": "stream",
     "text": [
      "(100, 1)\n",
      "(100, 1)\n"
     ]
    }
   ],
   "source": [
    "#C'est normal que le vecteur y fourni par make regression n'ait pas de \n",
    "#dimensions bien définies; On va donc redimensionner y avec reshape\n",
    "#et on va réutiliser sa dimension en x et puis définir celle en y à 1\n",
    "y=y.reshape(y.shape[0], 1)\n",
    "print(x.shape)\n",
    "print(y.shape)\n"
   ]
  },
  {
   "cell_type": "code",
   "execution_count": 39,
   "id": "4f6adc7d-5685-49e7-8d6c-f3607bc1a8d9",
   "metadata": {},
   "outputs": [
    {
     "data": {
      "text/plain": [
       "array([[-1.65188682,  1.        ],\n",
       "       [ 0.13863307,  1.        ],\n",
       "       [ 0.79723155,  1.        ],\n",
       "       [-0.91070553,  1.        ],\n",
       "       [-0.21511778,  1.        ],\n",
       "       [-2.20416224,  1.        ],\n",
       "       [-1.98017495,  1.        ],\n",
       "       [ 0.56786167,  1.        ],\n",
       "       [ 0.99672662,  1.        ],\n",
       "       [ 0.33372861,  1.        ],\n",
       "       [ 0.12272871,  1.        ],\n",
       "       [ 0.34521072,  1.        ],\n",
       "       [-0.25190707,  1.        ],\n",
       "       [ 0.8177635 ,  1.        ],\n",
       "       [-2.23614762,  1.        ],\n",
       "       [-1.07385926,  1.        ],\n",
       "       [-0.33386197,  1.        ],\n",
       "       [ 0.15483895,  1.        ],\n",
       "       [-0.04236327,  1.        ],\n",
       "       [ 0.24894853,  1.        ],\n",
       "       [-2.30709195,  1.        ],\n",
       "       [ 0.46337149,  1.        ],\n",
       "       [-1.08854039,  1.        ],\n",
       "       [-0.11065573,  1.        ],\n",
       "       [ 0.65555878,  1.        ],\n",
       "       [-0.76506733,  1.        ],\n",
       "       [-1.1855001 ,  1.        ],\n",
       "       [ 1.18317644,  1.        ],\n",
       "       [ 0.23077115,  1.        ],\n",
       "       [-0.82122494,  1.        ],\n",
       "       [-2.51738258,  1.        ],\n",
       "       [ 1.28590036,  1.        ],\n",
       "       [ 0.23320319,  1.        ],\n",
       "       [ 1.59559996,  1.        ],\n",
       "       [-0.13476919,  1.        ],\n",
       "       [-0.62433614,  1.        ],\n",
       "       [ 0.33769959,  1.        ],\n",
       "       [ 0.55559273,  1.        ],\n",
       "       [-0.59870074,  1.        ],\n",
       "       [ 0.71081785,  1.        ],\n",
       "       [ 0.84897346,  1.        ],\n",
       "       [-1.15339754,  1.        ],\n",
       "       [-1.16765383,  1.        ],\n",
       "       [ 2.18493517,  1.        ],\n",
       "       [-0.00278095,  1.        ],\n",
       "       [-0.01524014,  1.        ],\n",
       "       [ 0.20353617,  1.        ],\n",
       "       [-0.42654657,  1.        ],\n",
       "       [-0.31883053,  1.        ],\n",
       "       [ 0.36270611,  1.        ],\n",
       "       [ 0.1400773 ,  1.        ],\n",
       "       [ 0.16407896,  1.        ],\n",
       "       [-0.81128286,  1.        ],\n",
       "       [ 1.04710089,  1.        ],\n",
       "       [-0.2553464 ,  1.        ],\n",
       "       [-0.04108403,  1.        ],\n",
       "       [-0.47667865,  1.        ],\n",
       "       [-0.8509956 ,  1.        ],\n",
       "       [-1.45882022,  1.        ],\n",
       "       [-1.35178855,  1.        ],\n",
       "       [ 0.34387512,  1.        ],\n",
       "       [-0.43624111,  1.        ],\n",
       "       [-2.16525309,  1.        ],\n",
       "       [ 0.52939719,  1.        ],\n",
       "       [-0.17816198,  1.        ],\n",
       "       [-1.17736694,  1.        ],\n",
       "       [ 0.59988409,  1.        ],\n",
       "       [ 0.15958294,  1.        ],\n",
       "       [ 1.46047887,  1.        ],\n",
       "       [-0.50075862,  1.        ],\n",
       "       [-2.35593321,  1.        ],\n",
       "       [-0.74122045,  1.        ],\n",
       "       [-0.05455857,  1.        ],\n",
       "       [ 0.07544026,  1.        ],\n",
       "       [-0.45595724,  1.        ],\n",
       "       [-0.09293276,  1.        ],\n",
       "       [-0.7128156 ,  1.        ],\n",
       "       [ 0.30916018,  1.        ],\n",
       "       [ 0.85229105,  1.        ],\n",
       "       [-0.64226718,  1.        ],\n",
       "       [ 0.03744025,  1.        ],\n",
       "       [-0.77848835,  1.        ],\n",
       "       [-0.26958715,  1.        ],\n",
       "       [-0.44206257,  1.        ],\n",
       "       [-1.31548266,  1.        ],\n",
       "       [-0.36411211,  1.        ],\n",
       "       [ 1.01406081,  1.        ],\n",
       "       [-2.05464667,  1.        ],\n",
       "       [-2.00325305,  1.        ],\n",
       "       [ 0.72060279,  1.        ],\n",
       "       [ 1.90962998,  1.        ],\n",
       "       [-0.48399052,  1.        ],\n",
       "       [-1.04464439,  1.        ],\n",
       "       [ 0.15495388,  1.        ],\n",
       "       [-0.44336853,  1.        ],\n",
       "       [ 0.46418668,  1.        ],\n",
       "       [ 1.52162114,  1.        ],\n",
       "       [-0.33444532,  1.        ],\n",
       "       [ 0.24385315,  1.        ],\n",
       "       [-0.51503745,  1.        ]])"
      ]
     },
     "execution_count": 39,
     "metadata": {},
     "output_type": "execute_result"
    }
   ],
   "source": [
    "#Là on voit que c'est carré pour les futures multiplications so next\n",
    "#On va créer la matrice X avec les 1 qu'il lui faut S/O les maths\n",
    "X= np.hstack((x, np.ones(x.shape))) \n",
    "X\n",
    "#hstack sert à coller des matrices là c'est x et un vecteur de 1 avec la méme taille que x\n"
   ]
  },
  {
   "cell_type": "code",
   "execution_count": 40,
   "id": "28b1ef2d-11af-4d6a-b9da-932dcdbc1420",
   "metadata": {},
   "outputs": [
    {
     "data": {
      "text/plain": [
       "array([[-0.59542083],\n",
       "       [-0.70017774]])"
      ]
     },
     "execution_count": 40,
     "metadata": {},
     "output_type": "execute_result"
    }
   ],
   "source": [
    "#On va initialiser le vecteur theta de dimension 2,1 (a,b) pour qui on doit donner des valeurs aléatoires\n",
    "theta=np.random.randn(2, 1)\n",
    "theta"
   ]
  },
  {
   "cell_type": "markdown",
   "id": "4699deba-2871-4a9b-b793-25b5d98a198a",
   "metadata": {},
   "source": [
    "#MODELE\n"
   ]
  },
  {
   "cell_type": "code",
   "execution_count": 41,
   "id": "c22faa50-6d57-43d0-ae2c-0c2d577cd5bd",
   "metadata": {},
   "outputs": [],
   "source": [
    "#On va définir notre modèle qui est une fonction qui dépend des arguments X et theta\n",
    "def model(X, theta):\n",
    "    return X.dot(theta)\n",
    "# instructions c'est juste produit entre X et theta"
   ]
  },
  {
   "cell_type": "code",
   "execution_count": 42,
   "id": "f5914655-cd2c-4fe5-b788-b1861fa632cf",
   "metadata": {},
   "outputs": [
    {
     "data": {
      "text/plain": [
       "<matplotlib.collections.PathCollection at 0x12022b4d0>"
      ]
     },
     "execution_count": 42,
     "metadata": {},
     "output_type": "execute_result"
    },
    {
     "data": {
      "image/png": "[encoded data removed]",
      "text/plain": [
       "<Figure size 640x480 with 1 Axes>"
      ]
     },
     "metadata": {},
     "output_type": "display_data"
    }
   ],
   "source": [
    "#On va comparer la droite de notre modèle avec la réalité soit les points \n",
    "plt.plot(x, model(X, theta), c='r')\n",
    "plt.scatter(x, y)"
   ]
  },
  {
   "cell_type": "markdown",
   "id": "7c7f8a1d-a60c-43eb-85c5-766f310abf54",
   "metadata": {},
   "source": [
    "On voit que la droite n'est pas parmi les points logiquement avec un theta aléatoire\n",
    "\n",
    "FONCTION COUT"
   ]
  },
  {
   "cell_type": "code",
   "execution_count": 43,
   "id": "6de42e40-29bb-492b-9f40-a5503259bd18",
   "metadata": {},
   "outputs": [],
   "source": [
    "#On définit notre fonction cout\n",
    "#m est le nombre d'exemples lié à la taille(length) de y\n",
    "def cost_function(x, y, theta):\n",
    "    m = len(y)\n",
    "    return 1/(2*m) * np.sum((model(X, theta) - y)**2)"
   ]
  },
  {
   "cell_type": "code",
   "execution_count": 44,
   "id": "db0791d8-c2b6-43b1-8572-e0e9f06079bc",
   "metadata": {},
   "outputs": [
    {
     "data": {
      "text/plain": [
       "717.8689849087738"
      ]
     },
     "execution_count": 44,
     "metadata": {},
     "output_type": "execute_result"
    }
   ],
   "source": [
    "cost_function(X,y, theta)"
   ]
  },
  {
   "cell_type": "markdown",
   "id": "0bc722f5-e129-4409-aab5-874b33c6e283",
   "metadata": {},
   "source": [
    "On voit que notre fonction cout qui quantifie l'écart avec la courbe est énorme\n",
    "alors qu'elle doit étre minimale\n",
    "\n",
    "GRADIENTS ET DESCENTE DE GRADIENTS\n"
   ]
  },
  {
   "cell_type": "code",
   "execution_count": 45,
   "id": "84910316-6e0b-4b8e-ba68-5b7f932a761e",
   "metadata": {},
   "outputs": [],
   "source": [
    "#On définit notre fonction gradient avec la formule de base le T veut dire transposée\n",
    "#dot c'est multiplication S/O la formule des maths\n",
    "def grad(X, y , theta):\n",
    "    m = len(y)\n",
    "    return 1/m * X.T.dot(model(X, theta) - y)\n",
    "    "
   ]
  },
  {
   "cell_type": "code",
   "execution_count": 87,
   "id": "63de83a8-f05d-4cb4-93cc-2fdddef7e04d",
   "metadata": {},
   "outputs": [],
   "source": [
    "#Fonction descente de gradients qui dépend aussi dun learning\n",
    "#rate les pas qu'on fait pour descendre la vallée et trouver le point le plus bas\n",
    "def gradient_descent(X,y, theta, learning_rate, n_iterations):\n",
    "    cost_history =np.zeros(n_iterations)\n",
    "#Algorithme itératif, on va répéter l'opération plusieurs fois en mettant à jour theta\n",
    "#donc boucle for\n",
    "    for i in range (0, n_iterations):\n",
    "        theta = theta - learning_rate * grad(X,y, theta)\n",
    "        cost_history[i]= cost_function(X, y, theta)\n",
    "\n",
    "    return theta, cost_history"
   ]
  },
  {
   "cell_type": "code",
   "execution_count": 88,
   "id": "61ecf543-77f8-449f-9df9-e30b1bbafe31",
   "metadata": {},
   "outputs": [
    {
     "data": {
      "text/plain": [
       "(2, 1)"
      ]
     },
     "execution_count": 88,
     "metadata": {},
     "output_type": "execute_result"
    }
   ],
   "source": [
    "theta.shape"
   ]
  },
  {
   "cell_type": "code",
   "execution_count": 89,
   "id": "dde26658-fb0d-4a73-bbea-64604e229bf4",
   "metadata": {},
   "outputs": [],
   "source": [
    "theta_final, cost_history= gradient_descent(X, y, theta, learning_rate=0.01, n_iterations=1000)\n",
    "# theta final c'est celui après les calculs en gros\n",
    "#Ne pas oublier que le learning rate doit etre ni trop petit \n",
    "#ni trop grand c'est à nous de le définir de manière un peu empirique\n",
    "\n"
   ]
  },
  {
   "cell_type": "code",
   "execution_count": 90,
   "id": "2a3aae5b-2d6b-4807-84f4-b6813a10babb",
   "metadata": {},
   "outputs": [
    {
     "data": {
      "text/plain": [
       "array([[36.43064396],\n",
       "       [-0.97785656]])"
      ]
     },
     "execution_count": 90,
     "metadata": {},
     "output_type": "execute_result"
    }
   ],
   "source": [
    "theta_final\n",
    "#Là t'as ton thetafinal mais aussi la fonction cout qui sont affichés"
   ]
  },
  {
   "cell_type": "code",
   "execution_count": 91,
   "id": "1e740edd-43b3-4d79-b658-8effdf22572d",
   "metadata": {},
   "outputs": [
    {
     "data": {
      "text/plain": [
       "[<matplotlib.lines.Line2D at 0x1205d1c50>]"
      ]
     },
     "execution_count": 91,
     "metadata": {},
     "output_type": "execute_result"
    },
    {
     "data": {
      "image/png": "[encoded data removed]",
      "text/plain": [
       "<Figure size 640x480 with 1 Axes>"
      ]
     },
     "metadata": {},
     "output_type": "display_data"
    }
   ],
   "source": [
    "#En termes de dimension en tout cas on est carré\n",
    "#On va voir si nos paramètres nous donnent de bons résultats en créant \n",
    "#une fonction qui va utiliser les paramètres de theta_final\n",
    "predictions = model(X, theta_final)\n",
    "plt.scatter(x, y)\n",
    "plt.plot(x, predictions, c='r')\n",
    "\n",
    "\n"
   ]
  },
  {
   "cell_type": "code",
   "execution_count": 92,
   "id": "1a0440e2-aa2d-4969-9be2-a11c8de62572",
   "metadata": {},
   "outputs": [],
   "source": [
    "#On voit que notre droite est pas mal mais c'est possible de l'améliorer via\n",
    "#le paramètres alpha(pas) ou le nombre d'itérations (crari on continue de calculer\n",
    "#avec d'autres boucles for on va trouver un  nouveau minimum\n",
    "#On va modifier notre learning rate et on aura un meilleur résultat que tu vas voir là \n",
    "#qui est presque parfait\n",
    "\n"
   ]
  },
  {
   "cell_type": "code",
   "execution_count": null,
   "id": "c1160bd2-5b0b-4003-90d5-3362332bd069",
   "metadata": {},
   "outputs": [],
   "source": []
  },
  {
   "cell_type": "code",
   "execution_count": 93,
   "id": "928879a3-1883-45d5-9df8-2ab6e3a8ec90",
   "metadata": {},
   "outputs": [
    {
     "data": {
      "text/plain": [
       "[<matplotlib.lines.Line2D at 0x1205adfd0>]"
      ]
     },
     "execution_count": 93,
     "metadata": {},
     "output_type": "execute_result"
    },
    {
     "data": {
      "image/png": "[encoded data removed]",
      "text/plain": [
       "<Figure size 640x480 with 1 Axes>"
      ]
     },
     "metadata": {},
     "output_type": "display_data"
    }
   ],
   "source": [
    "plt.plot(range(1000), cost_history)\n",
    "#On a défini la valeur cost_history \n",
    "#qui nous montre l'évolution de la fonction cout au cours des 1000 itérations"
   ]
  },
  {
   "cell_type": "code",
   "execution_count": 94,
   "id": "3796ead6-ba46-40ae-9714-98165235f790",
   "metadata": {},
   "outputs": [],
   "source": [
    "#On voit au bout de 400 itérations que la fonction cout n'évolue presque plus"
   ]
  },
  {
   "cell_type": "code",
   "execution_count": 99,
   "id": "54f6dcc3-3ea3-4895-b465-a6940559328d",
   "metadata": {},
   "outputs": [],
   "source": [
    "#On va maintenant voir le coefficient de détermination Rcarré qu'on affiche souvent sur excel\n",
    "#Il évalue la performance du modèle de régression linéaire, \n",
    "#plus il est proche de 1 plus notre modèle rentre dans le nuage de points\n",
    "\n",
    "#formule de R2 trouvable sur le site de machinelearnia.com\n",
    "#ymean moyenne de y; sum() pour appliquer la somme sur ces termes\n",
    "\n",
    "def coef_determination(y, predictions):\n",
    "    #En général on la scinde en 2 variables u et v \n",
    "    u= ((y - predictions)**2).sum()\n",
    "    v=((y - y.mean())**2).sum()\n",
    "    return 1 - u/v\n",
    "    \n"
   ]
  },
  {
   "cell_type": "code",
   "execution_count": 100,
   "id": "82d9bafa-7586-489d-bfa3-fee6ad85f657",
   "metadata": {},
   "outputs": [
    {
     "data": {
      "text/plain": [
       "0.9433412935456661"
      ]
     },
     "execution_count": 100,
     "metadata": {},
     "output_type": "execute_result"
    }
   ],
   "source": [
    "coef_determination(y, predictions)"
   ]
  },
  {
   "cell_type": "code",
   "execution_count": null,
   "id": "e13fb1df-30c3-4dd1-919f-e315866c4982",
   "metadata": {},
   "outputs": [],
   "source": [
    "#Très proche de 1 donc oklm\n",
    "#On a regardé les bails pour la première variable x0 du coup faut juste remplacer les\n",
    "\""
   ]
  }
 ],
 "metadata": {
  "kernelspec": {
   "display_name": "Python 3 (ipykernel)",
   "language": "python",
   "name": "python3"
  },
  "language_info": {
   "codemirror_mode": {
    "name": "ipython",
    "version": 3
   },
   "file_extension": ".py",
   "mimetype": "text/x-python",
   "name": "python",
   "nbconvert_exporter": "python",
   "pygments_lexer": "ipython3",
   "version": "3.11.7"
  }
 },
 "nbformat": 4,
 "nbformat_minor": 5
}
