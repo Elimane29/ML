{
 "cells": [
  {
   "cell_type": "code",
   "execution_count": 4,
   "id": "aa16959b-fbe8-42ba-aa6e-e454af9ab99b",
   "metadata": {},
   "outputs": [
    {
     "name": "stdout",
     "output_type": "stream",
     "text": [
      "137340.0 Joules\n",
      "Omae wa mo shindeiru\n"
     ]
    }
   ],
   "source": [
    "def e_potentielle(masse, hauteur, e_limite=50000, g=9.81):\n",
    "    E= masse * hauteur * g\n",
    "    print(E, 'Joules')\n",
    "    if E >= e_limite:\n",
    "        print(\"Omae wa mo shindeiru\")\n",
    "    return E, g\n",
    "resultat= e_potentielle(70, 200, g=9.81)\n"
   ]
  },
  {
   "cell_type": "code",
   "execution_count": null,
   "id": "831ef868-54b9-419f-b102-a5ee5c18de34",
   "metadata": {},
   "outputs": [],
   "source": []
  }
 ],
 "metadata": {
  "kernelspec": {
   "display_name": "Python 3 (ipykernel)",
   "language": "python",
   "name": "python3"
  },
  "language_info": {
   "codemirror_mode": {
    "name": "ipython",
    "version": 3
   },
   "file_extension": ".py",
   "mimetype": "text/x-python",
   "name": "python",
   "nbconvert_exporter": "python",
   "pygments_lexer": "ipython3",
   "version": "3.11.7"
  }
 },
 "nbformat": 4,
 "nbformat_minor": 5
}
