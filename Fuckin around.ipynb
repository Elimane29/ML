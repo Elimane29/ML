{
 "cells": [
  {
   "cell_type": "code",
   "execution_count": 1,
   "id": "c0f75098-54d6-4950-bb58-f2ed8bb78715",
   "metadata": {},
   "outputs": [
    {
     "ename": "NameError",
     "evalue": "name 'np' is not defined",
     "output_type": "error",
     "traceback": [
      "\u001b[0;31m---------------------------------------------------------------------------\u001b[0m",
      "\u001b[0;31mNameError\u001b[0m                                 Traceback (most recent call last)",
      "Cell \u001b[0;32mIn[1], line 1\u001b[0m\n\u001b[0;32m----> 1\u001b[0m np\u001b[38;5;241m.\u001b[39mrandom\u001b[38;5;241m.\u001b[39mrandint(\u001b[38;5;241m4\u001b[39m,\u001b[38;5;241m8\u001b[39m, [\u001b[38;5;241m5\u001b[39m,\u001b[38;5;241m5\u001b[39m])\n",
      "\u001b[0;31mNameError\u001b[0m: name 'np' is not defined"
     ]
    }
   ],
   "source": [
    "np.random.randint(4,8, [5,5])"
   ]
  },
  {
   "cell_type": "code",
   "execution_count": 3,
   "id": "c361b9ff-c294-418f-8aef-b9da616a7e5f",
   "metadata": {},
   "outputs": [],
   "source": [
    "import numpy as np"
   ]
  },
  {
   "cell_type": "code",
   "execution_count": 9,
   "id": "ebf2fac9-4be6-46b7-87ec-d524d79b7ac8",
   "metadata": {},
   "outputs": [],
   "source": [
    "A= np.random.randint(4,8, [5,5])"
   ]
  },
  {
   "cell_type": "code",
   "execution_count": 7,
   "id": "3e7795bc-32ca-4b9b-8f8f-60a47a306997",
   "metadata": {},
   "outputs": [],
   "source": [
    "#donc là on a un tableau de 5 lignes et 5 colonnes d'entiers entre 4 et 8"
   ]
  },
  {
   "cell_type": "code",
   "execution_count": 11,
   "id": "8790ac37-6a02-4e58-89ce-611645095731",
   "metadata": {},
   "outputs": [
    {
     "data": {
      "text/plain": [
       "array([[4, 7, 6, 7, 4],\n",
       "       [4, 7, 5, 4, 4],\n",
       "       [6, 7, 6, 6, 7],\n",
       "       [5, 6, 5, 4, 6],\n",
       "       [7, 7, 6, 7, 6]])"
      ]
     },
     "execution_count": 11,
     "metadata": {},
     "output_type": "execute_result"
    }
   ],
   "source": [
    "A"
   ]
  },
  {
   "cell_type": "code",
   "execution_count": 13,
   "id": "5ccdc123-a466-4fba-9144-21cdd649ada8",
   "metadata": {},
   "outputs": [
    {
     "data": {
      "text/plain": [
       "143"
      ]
     },
     "execution_count": 13,
     "metadata": {},
     "output_type": "execute_result"
    }
   ],
   "source": [
    "A.sum()"
   ]
  },
  {
   "cell_type": "code",
   "execution_count": 15,
   "id": "d0bbec08-6f37-4409-a9f2-3fe3ba092eec",
   "metadata": {},
   "outputs": [
    {
     "data": {
      "text/plain": [
       "array([26, 34, 28, 28, 27])"
      ]
     },
     "execution_count": 15,
     "metadata": {},
     "output_type": "execute_result"
    }
   ],
   "source": [
    "A.sum(axis=0)"
   ]
  },
  {
   "cell_type": "code",
   "execution_count": 19,
   "id": "433cd50f-5e10-497c-b03c-61fbc46e1dec",
   "metadata": {},
   "outputs": [
    {
     "data": {
      "text/plain": [
       "array([[6, 4, 7],\n",
       "       [5, 6, 5]])"
      ]
     },
     "execution_count": 19,
     "metadata": {},
     "output_type": "execute_result"
    }
   ],
   "source": [
    "B = np.random.randint(4,8, [2,3])\n",
    "B"
   ]
  },
  {
   "cell_type": "code",
   "execution_count": 21,
   "id": "22f48ca7-e2ed-4f3b-85d2-cb601b000a39",
   "metadata": {},
   "outputs": [
    {
     "data": {
      "text/plain": [
       "array([17, 16])"
      ]
     },
     "execution_count": 21,
     "metadata": {},
     "output_type": "execute_result"
    }
   ],
   "source": [
    "B.sum(axis=1)"
   ]
  },
  {
   "cell_type": "code",
   "execution_count": 23,
   "id": "b34ee8bb-e574-4b9b-b452-63b6cf203ddb",
   "metadata": {},
   "outputs": [
    {
     "data": {
      "text/plain": [
       "array([4, 5])"
      ]
     },
     "execution_count": 23,
     "metadata": {},
     "output_type": "execute_result"
    }
   ],
   "source": [
    "B.min(axis=1)"
   ]
  },
  {
   "cell_type": "code",
   "execution_count": 27,
   "id": "ed64cca4-afd3-46d2-acea-4f8eb34afeed",
   "metadata": {},
   "outputs": [
    {
     "data": {
      "text/plain": [
       "array([1, 0])"
      ]
     },
     "execution_count": 27,
     "metadata": {},
     "output_type": "execute_result"
    }
   ],
   "source": [
    "B.argmin(axis=1)"
   ]
  },
  {
   "cell_type": "code",
   "execution_count": 29,
   "id": "e4905f26-293f-44b6-902a-0f5352a210a0",
   "metadata": {},
   "outputs": [
    {
     "data": {
      "text/plain": [
       "array([[1, 0, 2],\n",
       "       [0, 2, 1]])"
      ]
     },
     "execution_count": 29,
     "metadata": {},
     "output_type": "execute_result"
    }
   ],
   "source": [
    "B.argsort()"
   ]
  },
  {
   "cell_type": "code",
   "execution_count": null,
   "id": "56b4dedd-04ee-4925-814c-c98ab3ac6fc3",
   "metadata": {},
   "outputs": [],
   "source": []
  }
 ],
 "metadata": {
  "kernelspec": {
   "display_name": "Python 3 (ipykernel)",
   "language": "python",
   "name": "python3"
  },
  "language_info": {
   "codemirror_mode": {
    "name": "ipython",
    "version": 3
   },
   "file_extension": ".py",
   "mimetype": "text/x-python",
   "name": "python",
   "nbconvert_exporter": "python",
   "pygments_lexer": "ipython3",
   "version": "3.11.7"
  }
 },
 "nbformat": 4,
 "nbformat_minor": 5
}
