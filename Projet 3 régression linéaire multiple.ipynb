{
 "cells": [
  {
   "cell_type": "code",
   "execution_count": 10,
   "id": "7232f141-a488-423a-aeb4-e5562e9acde6",
   "metadata": {},
   "outputs": [],
   "source": [
    "#Là on va juste avoir une régression linéaire avec plusieurs paramètres \n",
    "#et pas qu'un seul\n",
    "\n",
    "import numpy as np\n",
    "\n",
    "#On va générer des données aléatoires(notre dataset) avec lesquelles travailler \n",
    "from sklearn.datasets import make_regression\n",
    "#Pour faire des graphes\n",
    "import matplotlib.pyplot as plt"
   ]
  },
  {
   "cell_type": "code",
   "execution_count": 11,
   "id": "4fa87954-e905-415d-b965-d5b43f8d39c0",
   "metadata": {},
   "outputs": [
    {
     "data": {
      "text/plain": [
       "<matplotlib.collections.PathCollection at 0x1279a8850>"
      ]
     },
     "execution_count": 11,
     "metadata": {},
     "output_type": "execute_result"
    },
    {
     "data": {
      "image/png": "[encoded data removed]",
      "text/plain": [
       "<Figure size 640x480 with 1 Axes>"
      ]
     },
     "metadata": {},
     "output_type": "display_data"
    }
   ],
   "source": [
    "#**Dataset** on met n_features=2 au lieu de 1 sur les précédents projets \n",
    "x, y = make_regression(n_samples=100, n_features=2, noise=10)\n",
    "#Représentation de y en fonction de x indice 0 parsk on peut pas toutes les voir en méme temps\n",
    "plt.scatter(x[:,0], y )"
   ]
  },
  {
   "cell_type": "code",
   "execution_count": 12,
   "id": "fbc51631-01d9-42eb-98c0-6e9f80ab24c3",
   "metadata": {},
   "outputs": [
    {
     "name": "stdout",
     "output_type": "stream",
     "text": [
      "(100, 2)\n",
      "(100,)\n"
     ]
    }
   ],
   "source": [
    "#On va vérifier les dimensions de nos matrices\n",
    "print(x.shape)\n",
    "print(y.shape)"
   ]
  },
  {
   "cell_type": "code",
   "execution_count": 14,
   "id": "f6787778-dde2-4344-8e4d-836f1da7f53b",
   "metadata": {},
   "outputs": [
    {
     "name": "stdout",
     "output_type": "stream",
     "text": [
      "(100, 2)\n",
      "(100, 1)\n"
     ]
    }
   ],
   "source": [
    "#C'est normal que le vecteur y fourni par make regression n'ait pas de \n",
    "#dimensions bien définies; On va donc redimensionner y avec reshape\n",
    "#et on va réutiliser sa dimension en x et puis définir celle en y à 1\n",
    "y=y.reshape(y.shape[0], 1)\n",
    "print(x.shape)\n",
    "print(y.shape)\n"
   ]
  },
  {
   "cell_type": "code",
   "execution_count": 19,
   "id": "3538cd65-4bbb-4a2a-9306-f702df271f6c",
   "metadata": {},
   "outputs": [
    {
     "name": "stdout",
     "output_type": "stream",
     "text": [
      "[[-0.59411784 -0.35576223  1.        ]\n",
      " [ 1.8540002   1.29347163  1.        ]\n",
      " [ 0.51308522  0.38869562  1.        ]\n",
      " [ 0.97607303 -1.68399763  1.        ]\n",
      " [ 1.38472168 -0.37762977  1.        ]\n",
      " [ 0.10124268 -1.70039829  1.        ]\n",
      " [-1.36175933 -1.10342627  1.        ]\n",
      " [-1.89806093  2.32283194  1.        ]\n",
      " [ 0.29173414 -0.34794469  1.        ]\n",
      " [ 1.09840221 -0.21732603  1.        ]\n",
      " [-0.31296216 -0.93865108  1.        ]\n",
      " [-1.72037142 -0.24321172  1.        ]\n",
      " [ 1.17820926 -0.58569317  1.        ]\n",
      " [ 0.21399644 -0.1854672   1.        ]\n",
      " [-1.5840516  -1.2662898   1.        ]\n",
      " [ 0.60887228 -1.25225092  1.        ]\n",
      " [ 1.21808041  0.19627653  1.        ]\n",
      " [ 0.66427879 -0.55462002  1.        ]\n",
      " [ 0.9513034   0.47464405  1.        ]\n",
      " [-0.15559441 -1.76780995  1.        ]\n",
      " [-0.14309789  1.11573694  1.        ]\n",
      " [-1.54206401 -0.71373583  1.        ]\n",
      " [ 0.36339409  1.82450225  1.        ]\n",
      " [-3.00626661 -0.67678545  1.        ]\n",
      " [-1.08499876  0.51160032  1.        ]\n",
      " [-0.67969762  1.23639751  1.        ]\n",
      " [-0.66719305  1.57355777  1.        ]\n",
      " [-0.43280115  0.41104307  1.        ]\n",
      " [ 0.83612462  0.17764091  1.        ]\n",
      " [-1.11662082  0.16776195  1.        ]\n",
      " [ 0.53679582 -0.05460698  1.        ]\n",
      " [ 0.61344845  0.77231548  1.        ]\n",
      " [-0.01523     0.64338399  1.        ]\n",
      " [-0.1701304  -0.07540772  1.        ]\n",
      " [ 0.35197167 -1.96508677  1.        ]\n",
      " [-0.78446974  0.37394043  1.        ]\n",
      " [ 0.7813469   0.08859043  1.        ]\n",
      " [-1.82568877 -0.14134087  1.        ]\n",
      " [ 0.33113612 -1.05971981  1.        ]\n",
      " [-0.36541732 -0.33400841  1.        ]\n",
      " [-0.39780299  0.07668359  1.        ]\n",
      " [ 0.6504685  -1.30012543  1.        ]\n",
      " [ 2.09094891  0.07068484  1.        ]\n",
      " [-0.28527247  0.18579862  1.        ]\n",
      " [ 0.0420304   1.10694034  1.        ]\n",
      " [-2.15437126  0.07436743  1.        ]\n",
      " [-0.42617226  0.00481183  1.        ]\n",
      " [-0.70088847  0.00855339  1.        ]\n",
      " [-0.52997387  0.66260325  1.        ]\n",
      " [-0.18427424 -2.23452058  1.        ]\n",
      " [-1.24256582 -1.11845279  1.        ]\n",
      " [ 0.53693686 -0.78048197  1.        ]\n",
      " [ 2.53501876  0.57253917  1.        ]\n",
      " [ 0.12992723  1.16204702  1.        ]\n",
      " [ 0.42024926 -0.24503069  1.        ]\n",
      " [ 0.15163251 -0.40830727  1.        ]\n",
      " [-1.05739344 -1.16010594  1.        ]\n",
      " [ 1.25741896  0.07729338  1.        ]\n",
      " [-0.29637252  0.23982229  1.        ]\n",
      " [ 0.8035274   0.00890552  1.        ]\n",
      " [ 1.14315083  2.8986046   1.        ]\n",
      " [ 0.68303113 -1.45835442  1.        ]\n",
      " [-1.50920111 -0.18330353  1.        ]\n",
      " [ 0.82364356  0.87168862  1.        ]\n",
      " [ 1.67046146 -0.13933481  1.        ]\n",
      " [ 1.30714467 -1.03951212  1.        ]\n",
      " [ 0.59806207 -0.41423207  1.        ]\n",
      " [ 0.20519882  1.30501031  1.        ]\n",
      " [-0.90763589  0.52012967  1.        ]\n",
      " [-0.18030427 -1.05048051  1.        ]\n",
      " [-0.33145272 -1.73649883  1.        ]\n",
      " [ 0.12290316  1.21307256  1.        ]\n",
      " [-0.66651325  1.86252858  1.        ]\n",
      " [ 1.02280905  0.65531085  1.        ]\n",
      " [-0.23110091  2.87236901  1.        ]\n",
      " [ 1.58923389 -0.2922859   1.        ]\n",
      " [ 0.33432164  0.6828223   1.        ]\n",
      " [ 0.32597679 -2.03156963  1.        ]\n",
      " [ 0.19487793  0.42947763  1.        ]\n",
      " [ 1.62931183  0.45539043  1.        ]\n",
      " [ 1.27834067 -0.79144528  1.        ]\n",
      " [ 1.00050985 -0.24093374  1.        ]\n",
      " [-0.58505467 -0.61930148  1.        ]\n",
      " [-0.01073845 -0.20501681  1.        ]\n",
      " [-0.22459426  0.0144465   1.        ]\n",
      " [-0.36520559  0.4057141   1.        ]\n",
      " [ 0.21852216  0.4664386   1.        ]\n",
      " [ 0.68565859 -0.20673323  1.        ]\n",
      " [-0.36490684 -0.07149298  1.        ]\n",
      " [ 1.16242392  0.19984657  1.        ]\n",
      " [-0.57100648  1.5882069   1.        ]\n",
      " [ 0.89632223 -1.39635732  1.        ]\n",
      " [-0.62594493  0.30788158  1.        ]\n",
      " [-0.60143774 -0.13862414  1.        ]\n",
      " [-0.40328671 -0.73466607  1.        ]\n",
      " [ 0.37742241  0.66113445  1.        ]\n",
      " [-0.12740626 -0.32438625  1.        ]\n",
      " [ 1.24446134 -0.87209601  1.        ]\n",
      " [-0.24743675  1.1186504   1.        ]\n",
      " [ 0.31199913 -0.11560902  1.        ]]\n",
      "(100, 3)\n"
     ]
    }
   ],
   "source": [
    "#Là on voit qu'on a bien les x0 et les x1 dans la matrice X pour le moment \n",
    "#On va créer la matrice X avec la colonne de  1 qu'il lui faut \n",
    "#mais là on a un changement à faire pour ne pas avoir 2 colonnes de 1 \n",
    "#donc matrice ones avec la taille de X en ligne mais avec qu'une seule colonne\n",
    "X= np.hstack((x, np.ones((x.shape[0],1))))\n",
    "X\n",
    "print(X)\n",
    "print(X.shape)\n"
   ]
  },
  {
   "cell_type": "code",
   "execution_count": 20,
   "id": "5741a7b3-066e-4b89-b60c-e591f1cccf74",
   "metadata": {},
   "outputs": [
    {
     "data": {
      "text/plain": [
       "array([[-0.5475428 ],\n",
       "       [-1.06998215],\n",
       "       [-1.64883641]])"
      ]
     },
     "execution_count": 20,
     "metadata": {},
     "output_type": "execute_result"
    }
   ],
   "source": [
    "#theta de dimension 3,1 (a,b,c) car on voit que le dataset n'est pas linéaire\n",
    "#pour qui on doit donner des valeurs aléatoires\n",
    "\n",
    "theta=np.random.randn(3, 1)\n",
    "theta"
   ]
  },
  {
   "cell_type": "code",
   "execution_count": 23,
   "id": "3250a76f-79c2-4c8a-9714-296a771e7581",
   "metadata": {},
   "outputs": [],
   "source": [
    "#On va définir notre modèle qui est une fonction qui dépend des arguments X et theta\n",
    "def model(X, theta):\n",
    "    return X.dot(theta)\n",
    "# instructions c'est juste produit entre X et theta"
   ]
  },
  {
   "cell_type": "code",
   "execution_count": 26,
   "id": "e8eebbb2-4e53-4843-957d-9ee045de113a",
   "metadata": {},
   "outputs": [
    {
     "data": {
      "text/plain": [
       "<matplotlib.collections.PathCollection at 0x127c2f1d0>"
      ]
     },
     "execution_count": 26,
     "metadata": {},
     "output_type": "execute_result"
    },
    {
     "data": {
      "image/png": "[encoded data removed]",
      "text/plain": [
       "<Figure size 640x480 with 1 Axes>"
      ]
     },
     "metadata": {},
     "output_type": "display_data"
    }
   ],
   "source": [
    "#On va comparer la droite de notre modèle avec la réalité soit les points que pour x indice 0\n",
    "plt.scatter(x[:,0], model(X, theta), c='r')\n",
    "plt.scatter(x[:,0], y) "
   ]
  },
  {
   "cell_type": "code",
   "execution_count": 27,
   "id": "e8145bb4-fb77-4dac-9c63-ef5ea0e8e1e7",
   "metadata": {},
   "outputs": [],
   "source": [
    "#On définit notre fonction cout\n",
    "#m est le nombre d'exemples lié à la taille(length) de y\n",
    "def cost_function(x, y, theta):\n",
    "    m = len(y)\n",
    "    return 1/(2*m) * np.sum((model(X, theta) - y)**2)"
   ]
  },
  {
   "cell_type": "code",
   "execution_count": 28,
   "id": "a55746d6-b595-44c0-b69e-cad23c3cb8e8",
   "metadata": {},
   "outputs": [
    {
     "data": {
      "text/plain": [
       "4297.993835601894"
      ]
     },
     "execution_count": 28,
     "metadata": {},
     "output_type": "execute_result"
    }
   ],
   "source": [
    "cost_function(X,y, theta)"
   ]
  },
  {
   "cell_type": "code",
   "execution_count": 29,
   "id": "930732df-4780-4b90-b872-a7e08b4a4f49",
   "metadata": {},
   "outputs": [],
   "source": [
    "#On définit notre fonction gradient avec la formule de base le T veut dire transposée\n",
    "#dot c'est multiplication S/O la formule des maths\n",
    "def grad(X, y , theta):\n",
    "    m = len(y)\n",
    "    return 1/m * X.T.dot(model(X, theta) - y)\n",
    "    "
   ]
  },
  {
   "cell_type": "code",
   "execution_count": 30,
   "id": "f98ba5ae-3f3c-434a-800d-7275b34fd101",
   "metadata": {},
   "outputs": [],
   "source": [
    "#Fonction descente de gradients qui dépend aussi dun learning\n",
    "#rate les pas qu'on fait pour descendre la vallée et trouver le point le plus bas\n",
    "def gradient_descent(X,y, theta, learning_rate, n_iterations):\n",
    "    cost_history =np.zeros(n_iterations)\n",
    "#Algorithme itératif, on va répéter l'opération plusieurs fois en mettant à jour theta\n",
    "#donc boucle for\n",
    "    for i in range (0, n_iterations):\n",
    "        theta = theta - learning_rate * grad(X,y, theta)\n",
    "        cost_history[i]= cost_function(X, y, theta)\n",
    "\n",
    "    return theta, cost_history"
   ]
  },
  {
   "cell_type": "code",
   "execution_count": 31,
   "id": "4d531bc5-48e8-4a54-83a3-426b680ce05f",
   "metadata": {},
   "outputs": [
    {
     "data": {
      "text/plain": [
       "(3, 1)"
      ]
     },
     "execution_count": 31,
     "metadata": {},
     "output_type": "execute_result"
    }
   ],
   "source": [
    "theta.shape"
   ]
  },
  {
   "cell_type": "code",
   "execution_count": 32,
   "id": "da4a0351-f2e8-4267-9174-7c82ea4dc2f6",
   "metadata": {},
   "outputs": [],
   "source": [
    "theta_final, cost_history= gradient_descent(X, y, theta, learning_rate=0.01, n_iterations=1000)"
   ]
  },
  {
   "cell_type": "code",
   "execution_count": 33,
   "id": "dbc6b8f7-55c6-49c2-be17-199e80493bd1",
   "metadata": {},
   "outputs": [
    {
     "data": {
      "text/plain": [
       "array([[42.69913057],\n",
       "       [81.49386049],\n",
       "       [-0.48783874]])"
      ]
     },
     "execution_count": 33,
     "metadata": {},
     "output_type": "execute_result"
    }
   ],
   "source": [
    "theta_final\n"
   ]
  },
  {
   "cell_type": "code",
   "execution_count": 36,
   "id": "50c897c8-a4fc-43e6-a58b-f26ca4a83220",
   "metadata": {},
   "outputs": [
    {
     "data": {
      "text/plain": [
       "<matplotlib.collections.PathCollection at 0x127d62290>"
      ]
     },
     "execution_count": 36,
     "metadata": {},
     "output_type": "execute_result"
    },
    {
     "data": {
      "image/png": "[encoded data removed]",
      "text/plain": [
       "<Figure size 640x480 with 1 Axes>"
      ]
     },
     "metadata": {},
     "output_type": "display_data"
    }
   ],
   "source": [
    "predictions = model(X, theta_final)\n",
    "plt.scatter(x[:,0], y)\n",
    "plt.scatter(x[:,0], predictions, c='r')"
   ]
  },
  {
   "cell_type": "code",
   "execution_count": 37,
   "id": "0ccac88b-49ec-43bb-aeca-b6ba4db8500d",
   "metadata": {},
   "outputs": [
    {
     "data": {
      "text/plain": [
       "[<matplotlib.lines.Line2D at 0x127d75190>]"
      ]
     },
     "execution_count": 37,
     "metadata": {},
     "output_type": "execute_result"
    },
    {
     "data": {
      "image/png": "[encoded data removed]",
      "text/plain": [
       "<Figure size 640x480 with 1 Axes>"
      ]
     },
     "metadata": {},
     "output_type": "display_data"
    }
   ],
   "source": [
    "plt.plot(range(1000), cost_history)"
   ]
  },
  {
   "cell_type": "code",
   "execution_count": 38,
   "id": "f8244f07-4922-4f61-bb90-21e4e7d89a42",
   "metadata": {},
   "outputs": [],
   "source": [
    "\n",
    "def coef_determination(y, predictions):\n",
    "    #En général on la scinde en 2 variables u et v \n",
    "    u= ((y - predictions)**2).sum()\n",
    "    v=((y - y.mean())**2).sum()\n",
    "    return 1 - u/v"
   ]
  },
  {
   "cell_type": "code",
   "execution_count": 39,
   "id": "2288fe2b-43ef-405b-91ec-5e04ab4bd561",
   "metadata": {},
   "outputs": [
    {
     "data": {
      "text/plain": [
       "0.9886181837268767"
      ]
     },
     "execution_count": 39,
     "metadata": {},
     "output_type": "execute_result"
    }
   ],
   "source": [
    "coef_determination(y, predictions)"
   ]
  },
  {
   "cell_type": "code",
   "execution_count": null,
   "id": "062bfd87-a4c9-43e1-93c7-f07a41eb2f0f",
   "metadata": {},
   "outputs": [],
   "source": [
    "#Très proche de 1 donc oklm\n",
    "#On a regardé les bails pour la première variable x0 du coup faut juste remplacer les\n",
    "#\"x[:,0] par x[:,1] \n",
    "#pour regarder l'autre variable parsk pour la représentation faudrait étre en 3D"
   ]
  }
 ],
 "metadata": {
  "kernelspec": {
   "display_name": "Python 3 (ipykernel)",
   "language": "python",
   "name": "python3"
  },
  "language_info": {
   "codemirror_mode": {
    "name": "ipython",
    "version": 3
   },
   "file_extension": ".py",
   "mimetype": "text/x-python",
   "name": "python",
   "nbconvert_exporter": "python",
   "pygments_lexer": "ipython3",
   "version": "3.11.7"
  }
 },
 "nbformat": 4,
 "nbformat_minor": 5
}
