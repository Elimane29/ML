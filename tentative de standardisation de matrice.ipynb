{
 "cells": [
  {
   "cell_type": "code",
   "execution_count": 3,
   "id": "938de720-c39e-4cfc-9cd2-441d061db372",
   "metadata": {},
   "outputs": [],
   "source": [
    "import numpy as np\n",
    "np.random.seed(0)\n",
    "A= np.random.randint(0, 100, [10,5])"
   ]
  },
  {
   "cell_type": "code",
   "execution_count": 5,
   "id": "a293a3be-4161-4ee0-a280-92f25b1e04f8",
   "metadata": {},
   "outputs": [
    {
     "data": {
      "text/plain": [
       "array([[44, 47, 64, 67, 67],\n",
       "       [ 9, 83, 21, 36, 87],\n",
       "       [70, 88, 88, 12, 58],\n",
       "       [65, 39, 87, 46, 88],\n",
       "       [81, 37, 25, 77, 72],\n",
       "       [ 9, 20, 80, 69, 79],\n",
       "       [47, 64, 82, 99, 88],\n",
       "       [49, 29, 19, 19, 14],\n",
       "       [39, 32, 65,  9, 57],\n",
       "       [32, 31, 74, 23, 35]])"
      ]
     },
     "execution_count": 5,
     "metadata": {},
     "output_type": "execute_result"
    }
   ],
   "source": [
    "A"
   ]
  },
  {
   "cell_type": "code",
   "execution_count": 7,
   "id": "9d84afe3-49a2-43b3-8721-9e405445cbf6",
   "metadata": {},
   "outputs": [
    {
     "data": {
      "text/plain": [
       "array([44, 47, 64, 67, 67])"
      ]
     },
     "execution_count": 7,
     "metadata": {},
     "output_type": "execute_result"
    }
   ],
   "source": [
    " A[0]\n"
   ]
  },
  {
   "cell_type": "code",
   "execution_count": 10,
   "id": "ba7c9fa7-7b25-4690-839d-c0117cd5bae1",
   "metadata": {},
   "outputs": [
    {
     "data": {
      "text/plain": [
       "47"
      ]
     },
     "execution_count": 10,
     "metadata": {},
     "output_type": "execute_result"
    }
   ],
   "source": [
    "A[0,1]\n"
   ]
  },
  {
   "cell_type": "code",
   "execution_count": 12,
   "id": "aa9b599e-85ad-4788-89b0-7968ad960ab7",
   "metadata": {},
   "outputs": [
    {
     "data": {
      "text/plain": [
       "array([], shape=(0, 5), dtype=int32)"
      ]
     },
     "execution_count": 12,
     "metadata": {},
     "output_type": "execute_result"
    }
   ],
   "source": [
    "A[:0]\n"
   ]
  },
  {
   "cell_type": "code",
   "execution_count": 14,
   "id": "196b62ff-523d-4d09-9593-e90fadcc9a2b",
   "metadata": {},
   "outputs": [
    {
     "data": {
      "text/plain": [
       "array([44,  9, 70, 65, 81,  9, 47, 49, 39, 32])"
      ]
     },
     "execution_count": 14,
     "metadata": {},
     "output_type": "execute_result"
    }
   ],
   "source": [
    "A[:,0]"
   ]
  },
  {
   "cell_type": "code",
   "execution_count": 16,
   "id": "a824a6b1-8548-4f93-8a04-e23755c5b19b",
   "metadata": {},
   "outputs": [],
   "source": [
    "Prix= A[:,0]"
   ]
  },
  {
   "cell_type": "code",
   "execution_count": 18,
   "id": "8b800b96-bac8-47ba-86cf-9f8e59b4b07a",
   "metadata": {},
   "outputs": [],
   "source": [
    "Surface = A[:, 1]"
   ]
  },
  {
   "cell_type": "code",
   "execution_count": 20,
   "id": "e7209f41-ff74-420e-83fe-3ba285df7761",
   "metadata": {},
   "outputs": [
    {
     "data": {
      "text/plain": [
       "44.5"
      ]
     },
     "execution_count": 20,
     "metadata": {},
     "output_type": "execute_result"
    }
   ],
   "source": [
    "Prix.mean()"
   ]
  },
  {
   "cell_type": "code",
   "execution_count": 22,
   "id": "83d31d76-a275-4ba1-a8a9-1a398b6cff15",
   "metadata": {},
   "outputs": [
    {
     "data": {
      "text/plain": [
       "513.65"
      ]
     },
     "execution_count": 22,
     "metadata": {},
     "output_type": "execute_result"
    }
   ],
   "source": [
    "Prix.var()"
   ]
  },
  {
   "cell_type": "code",
   "execution_count": 30,
   "id": "51fb43d4-3828-4f89-9720-4c0c21762e27",
   "metadata": {},
   "outputs": [],
   "source": [
    "\n",
    "    Prix[0]=(Prix[0]-Prix.mean())/Prix.var()"
   ]
  },
  {
   "cell_type": "code",
   "execution_count": 32,
   "id": "d811edd9-5ba8-4ccf-a7c4-b4e08e44b2e5",
   "metadata": {},
   "outputs": [
    {
     "data": {
      "text/plain": [
       "0"
      ]
     },
     "execution_count": 32,
     "metadata": {},
     "output_type": "execute_result"
    }
   ],
   "source": [
    "Prix[0]"
   ]
  },
  {
   "cell_type": "code",
   "execution_count": 34,
   "id": "db2eb278-c8e4-4a28-99c9-4226c91c4cf8",
   "metadata": {},
   "outputs": [
    {
     "data": {
      "text/plain": [
       "(10,)"
      ]
     },
     "execution_count": 34,
     "metadata": {},
     "output_type": "execute_result"
    }
   ],
   "source": [
    "Prix.shape\n"
   ]
  },
  {
   "cell_type": "code",
   "execution_count": 60,
   "id": "15b7db4d-b266-49c2-8d9f-e2f247b6a3fe",
   "metadata": {},
   "outputs": [
    {
     "data": {
      "text/plain": [
       "1"
      ]
     },
     "execution_count": 60,
     "metadata": {},
     "output_type": "execute_result"
    }
   ],
   "source": [
    "n=Prix.shape[0]\n",
    "for i in range(9):\n",
    "    Prix[i]\n",
    "\n",
    "Prix[i]+1\n",
    "    \n",
    "\n",
    "    "
   ]
  },
  {
   "cell_type": "code",
   "execution_count": 48,
   "id": "73078c3e-e853-4db6-9841-d5d968b3871c",
   "metadata": {},
   "outputs": [
    {
     "data": {
      "text/plain": [
       "array([0, 0, 0, 0, 0, 0, 0, 0, 0, 0, 0, 0, 0, 0, 0, 0, 0, 0, 0, 0])"
      ]
     },
     "execution_count": 48,
     "metadata": {},
     "output_type": "execute_result"
    }
   ],
   "source": [
    "\n"
   ]
  },
  {
   "cell_type": "code",
   "execution_count": null,
   "id": "04000695-a3b6-4e83-b343-7ded3cb5d08c",
   "metadata": {},
   "outputs": [],
   "source": [
    "np"
   ]
  }
 ],
 "metadata": {
  "kernelspec": {
   "display_name": "Python [conda env:base] *",
   "language": "python",
   "name": "conda-base-py"
  },
  "language_info": {
   "codemirror_mode": {
    "name": "ipython",
    "version": 3
   },
   "file_extension": ".py",
   "mimetype": "text/x-python",
   "name": "python",
   "nbconvert_exporter": "python",
   "pygments_lexer": "ipython3",
   "version": "3.12.7"
  }
 },
 "nbformat": 4,
 "nbformat_minor": 5
}
